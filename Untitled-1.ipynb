{
 "cells": [
  {
   "cell_type": "code",
   "execution_count": null,
   "metadata": {},
   "outputs": [],
   "source": [
    "# Compute the steady-state B-field magnitude\n",
    "I_t = I  # Consider peak current for visualization\n",
    "B = compute_B_field(I_t, R)\n",
    "\n",
    "# Plot the magnetic field intensity\n",
    "fig, ax = plt.subplots(figsize=(6,6))\n",
    "contour = ax.imshow(B, extent=[-grid_size, grid_size, -grid_size, grid_size], \n",
    "                     origin='lower', cmap='inferno', interpolation='bilinear')\n",
    "\n",
    "# Add a color bar to indicate field intensity\n",
    "cbar = plt.colorbar(contour)\n",
    "cbar.set_label(\"Magnetic Field Intensity (T)\")\n",
    "\n",
    "# Plot the wire boundary\n",
    "circle = plt.Circle((0, 0), wire_radius, color='white', linestyle='dashed', fill=False, linewidth=2)\n",
    "ax.add_patch(circle)\n",
    "\n",
    "# Labels and title\n",
    "ax.set_title(\"Magnetic Field Intensity Around AC Wire (Cross-Section)\")\n",
    "ax.set_xlabel(\"X (m)\")\n",
    "ax.set_ylabel(\"Y (m)\")\n",
    "ax.set_aspect('equal')\n",
    "\n",
    "plt.show()\n"
   ]
  }
 ],
 "metadata": {
  "kernelspec": {
   "display_name": ".venv",
   "language": "python",
   "name": "python3"
  },
  "language_info": {
   "name": "python",
   "version": "3.11.11"
  }
 },
 "nbformat": 4,
 "nbformat_minor": 2
}
